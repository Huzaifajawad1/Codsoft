{
  "nbformat": 4,
  "nbformat_minor": 0,
  "metadata": {
    "colab": {
      "provenance": []
    },
    "kernelspec": {
      "name": "python3",
      "display_name": "Python 3"
    },
    "language_info": {
      "name": "python"
    }
  },
  "cells": [
    {
      "cell_type": "code",
      "execution_count": 36,
      "metadata": {
        "id": "fcG1juc0Z8uX"
      },
      "outputs": [],
      "source": [
        "import pandas as pd\n",
        "import datetime as dt\n",
        "pd_train=pd.read_csv(\"fraudTrain.csv\")\n",
        "pd_train['age']=(dt.date.today().year)-(pd.to_datetime(pd_train['dob']).dt.year)\n",
        "pd_train['hour']=pd.to_datetime(pd_train['trans_date_trans_time']).dt.hour\n",
        "pd_train['day']=pd.to_datetime(pd_train['trans_date_trans_time']).dt.dayofweek\n",
        "pd_train['month']=pd.to_datetime(pd_train['trans_date_trans_time']).dt.month"
      ]
    },
    {
      "cell_type": "code",
      "source": [
        "train=pd_train[['category','amt','zip','lat','long','city_pop','merch_lat','merch_long','age','hour','day','month','is_fraud']]"
      ],
      "metadata": {
        "id": "pc_1CL-6mXML"
      },
      "execution_count": 37,
      "outputs": []
    },
    {
      "cell_type": "code",
      "source": [
        "train=pd.get_dummies(train, drop_first=True)"
      ],
      "metadata": {
        "id": "tyI1ChRbmtHg"
      },
      "execution_count": 38,
      "outputs": []
    },
    {
      "cell_type": "code",
      "source": [
        "X_train=train.drop(\"is_fraud\", axis='columns').values\n",
        "y_train=train['is_fraud'].values"
      ],
      "metadata": {
        "id": "ADcw_52Im01G"
      },
      "execution_count": 39,
      "outputs": []
    },
    {
      "cell_type": "code",
      "source": [
        "pd_test=pd.read_csv(\"fraudTest.csv\")\n",
        "pd_test['age']=(dt.date.today().year)-(pd.to_datetime(pd_test['dob']).dt.year)\n",
        "pd_test['hour']=pd.to_datetime(pd_test['trans_date_trans_time']).dt.hour\n",
        "pd_test['day']=pd.to_datetime(pd_test['trans_date_trans_time']).dt.dayofweek\n",
        "pd_test['month']=pd.to_datetime(pd_test['trans_date_trans_time']).dt.month\n",
        "test=pd_test[['category','amt','zip','lat','long','city_pop','merch_lat','merch_long','age','hour','day','month','is_fraud']]\n",
        "test=pd.get_dummies(test, drop_first=True)\n",
        "X_test=test.drop(\"is_fraud\", axis='columns').values\n",
        "y_test=test['is_fraud'].values"
      ],
      "metadata": {
        "id": "i3kTPbBZnXxI"
      },
      "execution_count": 40,
      "outputs": []
    },
    {
      "cell_type": "code",
      "source": [
        "from imblearn.over_sampling import SMOTE\n",
        "from sklearn.linear_model import LogisticRegression\n",
        "from sklearn.tree import DecisionTreeClassifier\n",
        "from sklearn.ensemble import RandomForestClassifier\n",
        "from sklearn.metrics import confusion_matrix, classification_report"
      ],
      "metadata": {
        "id": "5OiiJZv-nwrR"
      },
      "execution_count": 41,
      "outputs": []
    },
    {
      "cell_type": "code",
      "source": [
        "sampling=SMOTE()\n",
        "x, y = sampling.fit_resample(X_train, y_train)"
      ],
      "metadata": {
        "id": "Dey5NeLcooBQ"
      },
      "execution_count": 42,
      "outputs": []
    },
    {
      "cell_type": "code",
      "source": [
        "model1=LogisticRegression()\n",
        "model1.fit(x,y)\n",
        "y_pred=model1.predict(X_test)\n",
        "print('Classification report: ')\n",
        "print(classification_report(y_test, y_pred))\n",
        "conf = confusion_matrix(y_true=y_test, y_pred=y_pred)\n",
        "print('Confusion matrix:')\n",
        "print(conf)"
      ],
      "metadata": {
        "colab": {
          "base_uri": "https://localhost:8080/"
        },
        "id": "6FBMT3OGsGYa",
        "outputId": "8d383d06-a61c-4d98-833d-64f5371d2609"
      },
      "execution_count": 43,
      "outputs": [
        {
          "output_type": "stream",
          "name": "stdout",
          "text": [
            "Classification report: \n",
            "              precision    recall  f1-score   support\n",
            "\n",
            "           0       1.00      0.96      0.98    553574\n",
            "           1       0.06      0.75      0.11      2145\n",
            "\n",
            "    accuracy                           0.95    555719\n",
            "   macro avg       0.53      0.85      0.55    555719\n",
            "weighted avg       1.00      0.95      0.97    555719\n",
            "\n",
            "Confusion matrix:\n",
            "[[529046  24528]\n",
            " [   534   1611]]\n"
          ]
        }
      ]
    },
    {
      "cell_type": "code",
      "source": [
        "decision_tree_model = DecisionTreeClassifier()\n",
        "decision_tree_model.fit(x, y)\n",
        "y_pred_decision_tree = decision_tree_model.predict(X_test)\n",
        "\n",
        "print('Classification report for Decision Tree:')\n",
        "print(classification_report(y_test, y_pred_decision_tree))\n",
        "\n",
        "conf_decision_tree = confusion_matrix(y_true=y_test, y_pred=y_pred_decision_tree)\n",
        "print('Confusion matrix for Decision Tree:')\n",
        "print(conf_decision_tree)"
      ],
      "metadata": {
        "colab": {
          "base_uri": "https://localhost:8080/"
        },
        "id": "6opeDgsfoKw_",
        "outputId": "5b34ac07-1df9-4c50-f61d-144d452c8f3a"
      },
      "execution_count": 44,
      "outputs": [
        {
          "output_type": "stream",
          "name": "stdout",
          "text": [
            "Classification report for Decision Tree:\n",
            "              precision    recall  f1-score   support\n",
            "\n",
            "           0       1.00      1.00      1.00    553574\n",
            "           1       0.34      0.64      0.45      2145\n",
            "\n",
            "    accuracy                           0.99    555719\n",
            "   macro avg       0.67      0.82      0.72    555719\n",
            "weighted avg       1.00      0.99      0.99    555719\n",
            "\n",
            "Confusion matrix for Decision Tree:\n",
            "[[550939   2635]\n",
            " [   763   1382]]\n"
          ]
        }
      ]
    },
    {
      "cell_type": "code",
      "source": [
        "random_forest_model = RandomForestClassifier()\n",
        "random_forest_model.fit(x, y)\n",
        "\n",
        "y_pred_random_forest = random_forest_model.predict(X_test)\n",
        "\n",
        "print('Classification report for Random Forest:')\n",
        "print(classification_report(y_test, y_pred_random_forest))\n",
        "\n",
        "conf_random_forest = confusion_matrix(y_true=y_test, y_pred=y_pred_random_forest)\n",
        "print('Confusion matrix for Random Forest:')\n",
        "print(conf_random_forest)"
      ],
      "metadata": {
        "colab": {
          "base_uri": "https://localhost:8080/"
        },
        "id": "aqM2FyhGtZfE",
        "outputId": "bbfdcef1-39c4-4332-b4a8-188ecd75b9f6"
      },
      "execution_count": 45,
      "outputs": [
        {
          "output_type": "stream",
          "name": "stdout",
          "text": [
            "Classification report for Random Forest:\n",
            "              precision    recall  f1-score   support\n",
            "\n",
            "           0       1.00      1.00      1.00    553574\n",
            "           1       0.71      0.62      0.66      2145\n",
            "\n",
            "    accuracy                           1.00    555719\n",
            "   macro avg       0.86      0.81      0.83    555719\n",
            "weighted avg       1.00      1.00      1.00    555719\n",
            "\n",
            "Confusion matrix for Random Forest:\n",
            "[[553032    542]\n",
            " [   808   1337]]\n"
          ]
        }
      ]
    }
  ]
}